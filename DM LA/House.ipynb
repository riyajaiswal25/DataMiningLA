{
 "cells": [
  {
   "cell_type": "markdown",
   "id": "d19aa488",
   "metadata": {},
   "source": [
    "# Log Transformation for skewed data\n"
   ]
  },
  {
   "cell_type": "code",
   "execution_count": 1,
   "id": "66566d95",
   "metadata": {},
   "outputs": [],
   "source": [
    "#importing necessary libraries \n",
    "import pandas as pd \n",
    "import numpy as np \n",
    "import seaborn as sns \n",
    "import matplotlib.pyplot as plt"
   ]
  },
  {
   "cell_type": "code",
   "execution_count": 2,
   "id": "187b4443",
   "metadata": {},
   "outputs": [],
   "source": [
    "#Creating a list of data \n",
    "data = [1,1,10,10,15,15,20,20,30,50,120,130,120,50,30,30,25,20,20,15,15,13,11,9,7,6,6,5,5,5,4,4,4,4,3,3,3,3,2,2,2,2,2,1]"
   ]
  },
  {
   "cell_type": "code",
   "execution_count": 3,
   "id": "1e876f2e",
   "metadata": {},
   "outputs": [],
   "source": [
    "#Create the pandas DataFrame \n",
    "df = pd.DataFrame(data, columns = ['Positively Skewed'])"
   ]
  },
  {
   "cell_type": "code",
   "execution_count": 4,
   "id": "e3b54a3e",
   "metadata": {},
   "outputs": [
    {
     "data": {
      "text/html": [
       "<div>\n",
       "<style scoped>\n",
       "    .dataframe tbody tr th:only-of-type {\n",
       "        vertical-align: middle;\n",
       "    }\n",
       "\n",
       "    .dataframe tbody tr th {\n",
       "        vertical-align: top;\n",
       "    }\n",
       "\n",
       "    .dataframe thead th {\n",
       "        text-align: right;\n",
       "    }\n",
       "</style>\n",
       "<table border=\"1\" class=\"dataframe\">\n",
       "  <thead>\n",
       "    <tr style=\"text-align: right;\">\n",
       "      <th></th>\n",
       "      <th>Positively Skewed</th>\n",
       "    </tr>\n",
       "  </thead>\n",
       "  <tbody>\n",
       "    <tr>\n",
       "      <th>0</th>\n",
       "      <td>1</td>\n",
       "    </tr>\n",
       "    <tr>\n",
       "      <th>1</th>\n",
       "      <td>1</td>\n",
       "    </tr>\n",
       "    <tr>\n",
       "      <th>2</th>\n",
       "      <td>10</td>\n",
       "    </tr>\n",
       "    <tr>\n",
       "      <th>3</th>\n",
       "      <td>10</td>\n",
       "    </tr>\n",
       "    <tr>\n",
       "      <th>4</th>\n",
       "      <td>15</td>\n",
       "    </tr>\n",
       "    <tr>\n",
       "      <th>5</th>\n",
       "      <td>15</td>\n",
       "    </tr>\n",
       "    <tr>\n",
       "      <th>6</th>\n",
       "      <td>20</td>\n",
       "    </tr>\n",
       "    <tr>\n",
       "      <th>7</th>\n",
       "      <td>20</td>\n",
       "    </tr>\n",
       "    <tr>\n",
       "      <th>8</th>\n",
       "      <td>30</td>\n",
       "    </tr>\n",
       "    <tr>\n",
       "      <th>9</th>\n",
       "      <td>50</td>\n",
       "    </tr>\n",
       "    <tr>\n",
       "      <th>10</th>\n",
       "      <td>120</td>\n",
       "    </tr>\n",
       "    <tr>\n",
       "      <th>11</th>\n",
       "      <td>130</td>\n",
       "    </tr>\n",
       "    <tr>\n",
       "      <th>12</th>\n",
       "      <td>120</td>\n",
       "    </tr>\n",
       "    <tr>\n",
       "      <th>13</th>\n",
       "      <td>50</td>\n",
       "    </tr>\n",
       "    <tr>\n",
       "      <th>14</th>\n",
       "      <td>30</td>\n",
       "    </tr>\n",
       "    <tr>\n",
       "      <th>15</th>\n",
       "      <td>30</td>\n",
       "    </tr>\n",
       "    <tr>\n",
       "      <th>16</th>\n",
       "      <td>25</td>\n",
       "    </tr>\n",
       "    <tr>\n",
       "      <th>17</th>\n",
       "      <td>20</td>\n",
       "    </tr>\n",
       "    <tr>\n",
       "      <th>18</th>\n",
       "      <td>20</td>\n",
       "    </tr>\n",
       "    <tr>\n",
       "      <th>19</th>\n",
       "      <td>15</td>\n",
       "    </tr>\n",
       "    <tr>\n",
       "      <th>20</th>\n",
       "      <td>15</td>\n",
       "    </tr>\n",
       "    <tr>\n",
       "      <th>21</th>\n",
       "      <td>13</td>\n",
       "    </tr>\n",
       "    <tr>\n",
       "      <th>22</th>\n",
       "      <td>11</td>\n",
       "    </tr>\n",
       "    <tr>\n",
       "      <th>23</th>\n",
       "      <td>9</td>\n",
       "    </tr>\n",
       "    <tr>\n",
       "      <th>24</th>\n",
       "      <td>7</td>\n",
       "    </tr>\n",
       "    <tr>\n",
       "      <th>25</th>\n",
       "      <td>6</td>\n",
       "    </tr>\n",
       "    <tr>\n",
       "      <th>26</th>\n",
       "      <td>6</td>\n",
       "    </tr>\n",
       "    <tr>\n",
       "      <th>27</th>\n",
       "      <td>5</td>\n",
       "    </tr>\n",
       "    <tr>\n",
       "      <th>28</th>\n",
       "      <td>5</td>\n",
       "    </tr>\n",
       "    <tr>\n",
       "      <th>29</th>\n",
       "      <td>5</td>\n",
       "    </tr>\n",
       "    <tr>\n",
       "      <th>30</th>\n",
       "      <td>4</td>\n",
       "    </tr>\n",
       "    <tr>\n",
       "      <th>31</th>\n",
       "      <td>4</td>\n",
       "    </tr>\n",
       "    <tr>\n",
       "      <th>32</th>\n",
       "      <td>4</td>\n",
       "    </tr>\n",
       "    <tr>\n",
       "      <th>33</th>\n",
       "      <td>4</td>\n",
       "    </tr>\n",
       "    <tr>\n",
       "      <th>34</th>\n",
       "      <td>3</td>\n",
       "    </tr>\n",
       "    <tr>\n",
       "      <th>35</th>\n",
       "      <td>3</td>\n",
       "    </tr>\n",
       "    <tr>\n",
       "      <th>36</th>\n",
       "      <td>3</td>\n",
       "    </tr>\n",
       "    <tr>\n",
       "      <th>37</th>\n",
       "      <td>3</td>\n",
       "    </tr>\n",
       "    <tr>\n",
       "      <th>38</th>\n",
       "      <td>2</td>\n",
       "    </tr>\n",
       "    <tr>\n",
       "      <th>39</th>\n",
       "      <td>2</td>\n",
       "    </tr>\n",
       "    <tr>\n",
       "      <th>40</th>\n",
       "      <td>2</td>\n",
       "    </tr>\n",
       "    <tr>\n",
       "      <th>41</th>\n",
       "      <td>2</td>\n",
       "    </tr>\n",
       "    <tr>\n",
       "      <th>42</th>\n",
       "      <td>2</td>\n",
       "    </tr>\n",
       "    <tr>\n",
       "      <th>43</th>\n",
       "      <td>1</td>\n",
       "    </tr>\n",
       "  </tbody>\n",
       "</table>\n",
       "</div>"
      ],
      "text/plain": [
       "    Positively Skewed\n",
       "0                   1\n",
       "1                   1\n",
       "2                  10\n",
       "3                  10\n",
       "4                  15\n",
       "5                  15\n",
       "6                  20\n",
       "7                  20\n",
       "8                  30\n",
       "9                  50\n",
       "10                120\n",
       "11                130\n",
       "12                120\n",
       "13                 50\n",
       "14                 30\n",
       "15                 30\n",
       "16                 25\n",
       "17                 20\n",
       "18                 20\n",
       "19                 15\n",
       "20                 15\n",
       "21                 13\n",
       "22                 11\n",
       "23                  9\n",
       "24                  7\n",
       "25                  6\n",
       "26                  6\n",
       "27                  5\n",
       "28                  5\n",
       "29                  5\n",
       "30                  4\n",
       "31                  4\n",
       "32                  4\n",
       "33                  4\n",
       "34                  3\n",
       "35                  3\n",
       "36                  3\n",
       "37                  3\n",
       "38                  2\n",
       "39                  2\n",
       "40                  2\n",
       "41                  2\n",
       "42                  2\n",
       "43                  1"
      ]
     },
     "execution_count": 4,
     "metadata": {},
     "output_type": "execute_result"
    }
   ],
   "source": [
    "#Print DataFrame \n",
    "df"
   ]
  },
  {
   "cell_type": "code",
   "execution_count": 5,
   "id": "dcf49caa",
   "metadata": {},
   "outputs": [
    {
     "data": {
      "text/plain": [
       "<AxesSubplot:>"
      ]
     },
     "execution_count": 5,
     "metadata": {},
     "output_type": "execute_result"
    },
    {
     "data": {
      "image/png": "[encoded data removed]",
      "text/plain": [
       "<Figure size 432x288 with 1 Axes>"
      ]
     },
     "metadata": {
      "needs_background": "light"
     },
     "output_type": "display_data"
    }
   ],
   "source": [
    "#Boxplot showing outliers\n",
    "df.boxplot(column='Positively Skewed')"
   ]
  },
  {
   "cell_type": "code",
   "execution_count": 6,
   "id": "227501ea",
   "metadata": {},
   "outputs": [
    {
     "name": "stderr",
     "output_type": "stream",
     "text": [
      "C:\\Users\\riyaj\\anaconda3\\lib\\site-packages\\seaborn\\distributions.py:2619: FutureWarning: `distplot` is a deprecated function and will be removed in a future version. Please adapt your code to use either `displot` (a figure-level function with similar flexibility) or `histplot` (an axes-level function for histograms).\n",
      "  warnings.warn(msg, FutureWarning)\n"
     ]
    },
    {
     "data": {
      "text/plain": [
       "<AxesSubplot:ylabel='Density'>"
      ]
     },
     "execution_count": 6,
     "metadata": {},
     "output_type": "execute_result"
    },
    {
     "data": {
      "image/png": "[encoded data removed]",
      "text/plain": [
       "<Figure size 432x288 with 1 Axes>"
      ]
     },
     "metadata": {
      "needs_background": "light"
     },
     "output_type": "display_data"
    }
   ],
   "source": [
    "#Graph representing the dataframe\n",
    "sns.distplot(df)"
   ]
  },
  {
   "cell_type": "code",
   "execution_count": 7,
   "id": "e5d3a7f0",
   "metadata": {},
   "outputs": [],
   "source": [
    "inp_data = df"
   ]
  },
  {
   "cell_type": "code",
   "execution_count": 8,
   "id": "5fe66557",
   "metadata": {},
   "outputs": [
    {
     "name": "stdout",
     "output_type": "stream",
     "text": [
      "    Positively Skewed\n",
      "0            0.000000\n",
      "1            0.000000\n",
      "2            1.000000\n",
      "3            1.000000\n",
      "4            1.176091\n",
      "5            1.176091\n",
      "6            1.301030\n",
      "7            1.301030\n",
      "8            1.477121\n",
      "9            1.698970\n",
      "10           2.079181\n",
      "11           2.113943\n",
      "12           2.079181\n",
      "13           1.698970\n",
      "14           1.477121\n",
      "15           1.477121\n",
      "16           1.397940\n",
      "17           1.301030\n",
      "18           1.301030\n",
      "19           1.176091\n",
      "20           1.176091\n",
      "21           1.113943\n",
      "22           1.041393\n",
      "23           0.954243\n",
      "24           0.845098\n",
      "25           0.778151\n",
      "26           0.778151\n",
      "27           0.698970\n",
      "28           0.698970\n",
      "29           0.698970\n",
      "30           0.602060\n",
      "31           0.602060\n",
      "32           0.602060\n",
      "33           0.602060\n",
      "34           0.477121\n",
      "35           0.477121\n",
      "36           0.477121\n",
      "37           0.477121\n",
      "38           0.301030\n",
      "39           0.301030\n",
      "40           0.301030\n",
      "41           0.301030\n",
      "42           0.301030\n",
      "43           0.000000\n"
     ]
    }
   ],
   "source": [
    "#Applying log transformation on the data\n",
    "out_data = np.log10(inp_data)\n",
    "print(out_data)"
   ]
  },
  {
   "cell_type": "code",
   "execution_count": 9,
   "id": "c0211b95",
   "metadata": {},
   "outputs": [
    {
     "data": {
      "text/plain": [
       "<AxesSubplot:>"
      ]
     },
     "execution_count": 9,
     "metadata": {},
     "output_type": "execute_result"
    },
    {
     "data": {
      "image/png": "[encoded data removed]",
      "text/plain": [
       "<Figure size 432x288 with 1 Axes>"
      ]
     },
     "metadata": {
      "needs_background": "light"
     },
     "output_type": "display_data"
    }
   ],
   "source": [
    "#Boxplot showing no outliers on the transformed data\n",
    "out_data.boxplot(column='Positively Skewed')"
   ]
  },
  {
   "cell_type": "code",
   "execution_count": 10,
   "id": "8a5577d7",
   "metadata": {},
   "outputs": [
    {
     "name": "stderr",
     "output_type": "stream",
     "text": [
      "C:\\Users\\riyaj\\anaconda3\\lib\\site-packages\\seaborn\\distributions.py:2619: FutureWarning: `distplot` is a deprecated function and will be removed in a future version. Please adapt your code to use either `displot` (a figure-level function with similar flexibility) or `histplot` (an axes-level function for histograms).\n",
      "  warnings.warn(msg, FutureWarning)\n"
     ]
    },
    {
     "data": {
      "text/plain": [
       "<AxesSubplot:ylabel='Density'>"
      ]
     },
     "execution_count": 10,
     "metadata": {},
     "output_type": "execute_result"
    },
    {
     "data": {
      "image/png": "[encoded data removed]",
      "text/plain": [
       "<Figure size 432x288 with 1 Axes>"
      ]
     },
     "metadata": {
      "needs_background": "light"
     },
     "output_type": "display_data"
    }
   ],
   "source": [
    "#Graph representing transformed data\n",
    "sns.distplot(out_data)"
   ]
  },
  {
   "cell_type": "markdown",
   "id": "f8139255",
   "metadata": {},
   "source": [
    "# House Price Prediction (Linear Regression Model)"
   ]
  },
  {
   "cell_type": "code",
   "execution_count": 11,
   "id": "06454cf1",
   "metadata": {},
   "outputs": [],
   "source": [
    "from sklearn.linear_model import LinearRegression"
   ]
  },
  {
   "cell_type": "code",
   "execution_count": 12,
   "id": "4a29aac2",
   "metadata": {},
   "outputs": [],
   "source": [
    "#Loading Dataset\n",
    "dataset = pd.read_csv('House.csv')"
   ]
  },
  {
   "cell_type": "code",
   "execution_count": 13,
   "id": "14c74e14",
   "metadata": {},
   "outputs": [
    {
     "name": "stdout",
     "output_type": "stream",
     "text": [
      "(1460, 2)\n",
      "    area   price\n",
      "0   8450  208500\n",
      "1   9600  181500\n",
      "2  11250  223500\n",
      "3   9550  140000\n",
      "4  14260  250000\n"
     ]
    }
   ],
   "source": [
    "#Summarizing Data\n",
    "print(dataset.shape)\n",
    "print(dataset.head(5))"
   ]
  },
  {
   "cell_type": "code",
   "execution_count": 14,
   "id": "40f6e772",
   "metadata": {},
   "outputs": [
    {
     "data": {
      "text/plain": [
       "<matplotlib.collections.PathCollection at 0x1b1edcddac0>"
      ]
     },
     "execution_count": 14,
     "metadata": {},
     "output_type": "execute_result"
    },
    {
     "data": {
      "image/png": "[encoded data removed]",
      "text/plain": [
       "<Figure size 432x288 with 1 Axes>"
      ]
     },
     "metadata": {
      "needs_background": "light"
     },
     "output_type": "display_data"
    }
   ],
   "source": [
    "#Visualizing Dataset\n",
    "plt.xlabel('Area')\n",
    "plt.ylabel('Price')\n",
    "plt.scatter(dataset.area,dataset.price,color='red',marker='*')"
   ]
  },
  {
   "cell_type": "code",
   "execution_count": 15,
   "id": "faf74797",
   "metadata": {},
   "outputs": [
    {
     "data": {
      "text/html": [
       "<div>\n",
       "<style scoped>\n",
       "    .dataframe tbody tr th:only-of-type {\n",
       "        vertical-align: middle;\n",
       "    }\n",
       "\n",
       "    .dataframe tbody tr th {\n",
       "        vertical-align: top;\n",
       "    }\n",
       "\n",
       "    .dataframe thead th {\n",
       "        text-align: right;\n",
       "    }\n",
       "</style>\n",
       "<table border=\"1\" class=\"dataframe\">\n",
       "  <thead>\n",
       "    <tr style=\"text-align: right;\">\n",
       "      <th></th>\n",
       "      <th>area</th>\n",
       "    </tr>\n",
       "  </thead>\n",
       "  <tbody>\n",
       "    <tr>\n",
       "      <th>0</th>\n",
       "      <td>8450</td>\n",
       "    </tr>\n",
       "    <tr>\n",
       "      <th>1</th>\n",
       "      <td>9600</td>\n",
       "    </tr>\n",
       "    <tr>\n",
       "      <th>2</th>\n",
       "      <td>11250</td>\n",
       "    </tr>\n",
       "    <tr>\n",
       "      <th>3</th>\n",
       "      <td>9550</td>\n",
       "    </tr>\n",
       "    <tr>\n",
       "      <th>4</th>\n",
       "      <td>14260</td>\n",
       "    </tr>\n",
       "    <tr>\n",
       "      <th>...</th>\n",
       "      <td>...</td>\n",
       "    </tr>\n",
       "    <tr>\n",
       "      <th>1455</th>\n",
       "      <td>7917</td>\n",
       "    </tr>\n",
       "    <tr>\n",
       "      <th>1456</th>\n",
       "      <td>13175</td>\n",
       "    </tr>\n",
       "    <tr>\n",
       "      <th>1457</th>\n",
       "      <td>9042</td>\n",
       "    </tr>\n",
       "    <tr>\n",
       "      <th>1458</th>\n",
       "      <td>9717</td>\n",
       "    </tr>\n",
       "    <tr>\n",
       "      <th>1459</th>\n",
       "      <td>9937</td>\n",
       "    </tr>\n",
       "  </tbody>\n",
       "</table>\n",
       "<p>1460 rows × 1 columns</p>\n",
       "</div>"
      ],
      "text/plain": [
       "       area\n",
       "0      8450\n",
       "1      9600\n",
       "2     11250\n",
       "3      9550\n",
       "4     14260\n",
       "...     ...\n",
       "1455   7917\n",
       "1456  13175\n",
       "1457   9042\n",
       "1458   9717\n",
       "1459   9937\n",
       "\n",
       "[1460 rows x 1 columns]"
      ]
     },
     "execution_count": 15,
     "metadata": {},
     "output_type": "execute_result"
    }
   ],
   "source": [
    "#Segregating dataset into input X and output Y\n",
    "X=dataset.drop('price',axis='columns')\n",
    "X"
   ]
  },
  {
   "cell_type": "code",
   "execution_count": 16,
   "id": "b803cd7a",
   "metadata": {},
   "outputs": [
    {
     "data": {
      "text/plain": [
       "0       208500\n",
       "1       181500\n",
       "2       223500\n",
       "3       140000\n",
       "4       250000\n",
       "         ...  \n",
       "1455    175000\n",
       "1456    210000\n",
       "1457    266500\n",
       "1458    142125\n",
       "1459    147500\n",
       "Name: price, Length: 1460, dtype: int64"
      ]
     },
     "execution_count": 16,
     "metadata": {},
     "output_type": "execute_result"
    }
   ],
   "source": [
    "Y=dataset.price\n",
    "Y"
   ]
  },
  {
   "cell_type": "code",
   "execution_count": 17,
   "id": "868f4992",
   "metadata": {},
   "outputs": [],
   "source": [
    "from sklearn.linear_model import LinearRegression\n",
    "from sklearn.preprocessing import StandardScaler\n",
    "from sklearn.preprocessing import PowerTransformer\n",
    "from sklearn.metrics import mean_squared_error, r2_score\n",
    "from sklearn.model_selection import train_test_split"
   ]
  },
  {
   "cell_type": "code",
   "execution_count": 18,
   "id": "437647ee",
   "metadata": {},
   "outputs": [],
   "source": [
    "# Split the data into training and testing sets\n",
    "X_train, X_test, y_train, y_test = train_test_split(X, Y, test_size=0.3, random_state=42)\n"
   ]
  },
  {
   "cell_type": "code",
   "execution_count": 19,
   "id": "b09a8e83",
   "metadata": {},
   "outputs": [
    {
     "data": {
      "text/plain": [
       "LinearRegression()"
      ]
     },
     "execution_count": 19,
     "metadata": {},
     "output_type": "execute_result"
    }
   ],
   "source": [
    "#Plain data\n",
    "model = LinearRegression()\n",
    "model.fit(X_train, y_train)"
   ]
  },
  {
   "cell_type": "code",
   "execution_count": 20,
   "id": "a96b0c49",
   "metadata": {},
   "outputs": [],
   "source": [
    "y_pred=model.predict(X_test)"
   ]
  },
  {
   "cell_type": "code",
   "execution_count": 21,
   "id": "5401c994",
   "metadata": {},
   "outputs": [],
   "source": [
    "# Log transformation of the features\n",
    "X_train_log = np.log(X_train)\n",
    "X_test_log = np.log(X_test)"
   ]
  },
  {
   "cell_type": "code",
   "execution_count": 22,
   "id": "7e998a36",
   "metadata": {},
   "outputs": [],
   "source": [
    "# Square root transformation of the features\n",
    "X_train_sqrt = np.sqrt(X_train)\n",
    "X_test_sqrt = np.sqrt(X_test)\n"
   ]
  },
  {
   "cell_type": "code",
   "execution_count": 23,
   "id": "8838aa5b",
   "metadata": {},
   "outputs": [],
   "source": [
    "# Box-Cox transformation of the features\n",
    "pt = PowerTransformer(method='box-cox')\n",
    "X_train_boxcox = pt.fit_transform(X_train)\n",
    "X_test_boxcox = pt.transform(X_test)"
   ]
  },
  {
   "cell_type": "code",
   "execution_count": 24,
   "id": "137689e0",
   "metadata": {},
   "outputs": [],
   "source": [
    "# Z-score normalization of the features\n",
    "scaler = StandardScaler()\n",
    "X_train_zscore = scaler.fit_transform(X_train)\n",
    "X_test_zscore = scaler.transform(X_test)\n"
   ]
  },
  {
   "cell_type": "code",
   "execution_count": 25,
   "id": "3722c6ad",
   "metadata": {},
   "outputs": [
    {
     "data": {
      "text/plain": [
       "LinearRegression()"
      ]
     },
     "execution_count": 25,
     "metadata": {},
     "output_type": "execute_result"
    }
   ],
   "source": [
    "# Fit a linear regression model to the training data using log transformation\n",
    "reg_log = LinearRegression()\n",
    "reg_log.fit(X_train_log, y_train)\n"
   ]
  },
  {
   "cell_type": "code",
   "execution_count": 26,
   "id": "c44d6736",
   "metadata": {},
   "outputs": [],
   "source": [
    "# Make predictions on the test data using log transformation\n",
    "y_pred_log = reg_log.predict(X_test_log)"
   ]
  },
  {
   "cell_type": "code",
   "execution_count": 27,
   "id": "951d40c1",
   "metadata": {},
   "outputs": [
    {
     "data": {
      "text/plain": [
       "LinearRegression()"
      ]
     },
     "execution_count": 27,
     "metadata": {},
     "output_type": "execute_result"
    }
   ],
   "source": [
    "# Fit a linear regression model to the training data using square root transformation\n",
    "reg_sqrt = LinearRegression()\n",
    "reg_sqrt.fit(X_train_sqrt, y_train)"
   ]
  },
  {
   "cell_type": "code",
   "execution_count": 28,
   "id": "a7b0cabb",
   "metadata": {},
   "outputs": [],
   "source": [
    "# Make predictions on the test data using square root transformation\n",
    "y_pred_sqrt = reg_sqrt.predict(X_test_sqrt)\n"
   ]
  },
  {
   "cell_type": "code",
   "execution_count": 29,
   "id": "1ebc2df6",
   "metadata": {},
   "outputs": [
    {
     "data": {
      "text/plain": [
       "LinearRegression()"
      ]
     },
     "execution_count": 29,
     "metadata": {},
     "output_type": "execute_result"
    }
   ],
   "source": [
    "# Fit a linear regression model to the training data using Box-Cox transformation\n",
    "reg_boxcox = LinearRegression()\n",
    "reg_boxcox.fit(X_train_boxcox, y_train)"
   ]
  },
  {
   "cell_type": "code",
   "execution_count": 30,
   "id": "2c0ca6a8",
   "metadata": {},
   "outputs": [],
   "source": [
    "# Make predictions on the test data using Box-Cox transformation\n",
    "y_pred_boxcox = reg_boxcox.predict(X_test_boxcox)"
   ]
  },
  {
   "cell_type": "code",
   "execution_count": 31,
   "id": "a3814b46",
   "metadata": {},
   "outputs": [
    {
     "data": {
      "text/plain": [
       "LinearRegression()"
      ]
     },
     "execution_count": 31,
     "metadata": {},
     "output_type": "execute_result"
    }
   ],
   "source": [
    "# Fit a linear regression model to the training data using Z-score normalization\n",
    "reg_zscore = LinearRegression()\n",
    "reg_zscore.fit(X_train_zscore, y_train)\n"
   ]
  },
  {
   "cell_type": "code",
   "execution_count": 32,
   "id": "9b1d9e50",
   "metadata": {},
   "outputs": [],
   "source": [
    "# Make predictions on the test data using Z-score normalization\n",
    "y_pred_zscore = reg_zscore.predict(X_test_zscore)"
   ]
  },
  {
   "cell_type": "code",
   "execution_count": 33,
   "id": "e4ec4fff",
   "metadata": {},
   "outputs": [],
   "source": [
    "# Evaluate the performance of the models\n",
    "mse_plain = mean_squared_error(y_test, y_pred)\n",
    "mse_log = mean_squared_error(y_test, y_pred_log)\n",
    "mse_sqrt = mean_squared_error(y_test, y_pred_sqrt)\n",
    "mse_boxcox = mean_squared_error(y_test, y_pred_boxcox)\n",
    "mse_zscore = mean_squared_error(y_test, y_pred_zscore)\n"
   ]
  },
  {
   "cell_type": "code",
   "execution_count": 34,
   "id": "6a25bac2",
   "metadata": {},
   "outputs": [],
   "source": [
    "r2_plain = r2_score(y_test, y_pred)\n",
    "r2_log = r2_score(y_test, y_pred_log)\n",
    "r2_sqrt = r2_score(y_test, y_pred_sqrt)\n",
    "r2_boxcox = r2_score(y_test, y_pred_boxcox)\n",
    "r2_zscore = r2_score(y_test, y_pred_zscore)"
   ]
  },
  {
   "cell_type": "code",
   "execution_count": 38,
   "id": "b7a709f4",
   "metadata": {},
   "outputs": [
    {
     "name": "stdout",
     "output_type": "stream",
     "text": [
      "Results using Plain data:\n",
      "Mean squared error: 6516085517.159481\n",
      "R2 score: 0.066208\n",
      "\n"
     ]
    }
   ],
   "source": [
    "print(\"Results using Plain data:\")\n",
    "print(\"Mean squared error: %f\" % mse_plain)\n",
    "print(\"R2 score: %f\" % r2_plain)\n",
    "print()"
   ]
  },
  {
   "cell_type": "code",
   "execution_count": 39,
   "id": "41178a93",
   "metadata": {},
   "outputs": [
    {
     "name": "stdout",
     "output_type": "stream",
     "text": [
      "Results using Log transformation:\n",
      "Mean squared error: 6059403305.548991\n",
      "R2 score: 0.131653\n",
      "\n"
     ]
    }
   ],
   "source": [
    "print(\"Results using Log transformation:\")\n",
    "print(\"Mean squared error: %f\" % mse_log)\n",
    "print(\"R2 score: %f\" % r2_log)\n",
    "print()"
   ]
  },
  {
   "cell_type": "code",
   "execution_count": 40,
   "id": "acada35c",
   "metadata": {},
   "outputs": [
    {
     "name": "stdout",
     "output_type": "stream",
     "text": [
      "Results using Square root transformation:\n",
      "Mean squared error: 6101310793.110592\n",
      "R2 score: 0.125648\n",
      "\n"
     ]
    }
   ],
   "source": [
    "print(\"Results using Square root transformation:\")\n",
    "print(\"Mean squared error: %f\" % mse_sqrt)\n",
    "print(\"R2 score: %f\" % r2_sqrt)\n",
    "print()\n"
   ]
  },
  {
   "cell_type": "code",
   "execution_count": 41,
   "id": "19f3d63d",
   "metadata": {},
   "outputs": [
    {
     "name": "stdout",
     "output_type": "stream",
     "text": [
      "Results using Box-Cox transformation:\n",
      "Mean squared error: 6059619570.720587\n",
      "R2 score: 0.131623\n"
     ]
    }
   ],
   "source": [
    "print(\"Results using Box-Cox transformation:\")\n",
    "print(\"Mean squared error: %f\" % mse_boxcox)\n",
    "print(\"R2 score: %f\" %r2_boxcox)"
   ]
  },
  {
   "cell_type": "code",
   "execution_count": null,
   "id": "e85181b0",
   "metadata": {},
   "outputs": [],
   "source": []
  }
 ],
 "metadata": {
  "kernelspec": {
   "display_name": "Python 3 (ipykernel)",
   "language": "python",
   "name": "python3"
  },
  "language_info": {
   "codemirror_mode": {
    "name": "ipython",
    "version": 3
   },
   "file_extension": ".py",
   "mimetype": "text/x-python",
   "name": "python",
   "nbconvert_exporter": "python",
   "pygments_lexer": "ipython3",
   "version": "3.9.12"
  }
 },
 "nbformat": 4,
 "nbformat_minor": 5
}
